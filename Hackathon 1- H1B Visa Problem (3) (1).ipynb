{
 "cells": [
  {
   "cell_type": "code",
   "execution_count": 1,
   "metadata": {},
   "outputs": [
    {
     "data": {
      "text/plain": [
       "Index(['Unnamed: 0', 'CASE_NUMBER', 'CASE_STATUS', 'CASE_SUBMITTED',\n",
       "       'DECISION_DATE', 'VISA_CLASS', 'EMPLOYMENT_START_DATE',\n",
       "       'EMPLOYMENT_END_DATE', 'EMPLOYER_NAME', 'EMPLOYER_BUSINESS_DBA',\n",
       "       'EMPLOYER_ADDRESS', 'EMPLOYER_CITY', 'EMPLOYER_STATE',\n",
       "       'EMPLOYER_POSTAL_CODE', 'EMPLOYER_COUNTRY', 'EMPLOYER_PROVINCE',\n",
       "       'EMPLOYER_PHONE', 'EMPLOYER_PHONE_EXT', 'AGENT_REPRESENTING_EMPLOYER',\n",
       "       'AGENT_ATTORNEY_NAME', 'AGENT_ATTORNEY_CITY', 'AGENT_ATTORNEY_STATE',\n",
       "       'JOB_TITLE', 'SOC_CODE', 'SOC_NAME', 'NAICS_CODE', 'TOTAL_WORKERS',\n",
       "       'NEW_EMPLOYMENT', 'CONTINUED_EMPLOYMENT', 'CHANGE_PREVIOUS_EMPLOYMENT',\n",
       "       'NEW_CONCURRENT_EMPLOYMENT', 'CHANGE_EMPLOYER', 'AMENDED_PETITION',\n",
       "       'FULL_TIME_POSITION', 'PREVAILING_WAGE', 'PW_UNIT_OF_PAY',\n",
       "       'PW_WAGE_LEVEL', 'PW_SOURCE', 'PW_SOURCE_YEAR', 'PW_SOURCE_OTHER',\n",
       "       'WAGE_RATE_OF_PAY_FROM', 'WAGE_RATE_OF_PAY_TO', 'WAGE_UNIT_OF_PAY',\n",
       "       'H1B_DEPENDENT', 'WILLFUL_VIOLATOR', 'SUPPORT_H1B', 'LABOR_CON_AGREE',\n",
       "       'PUBLIC_DISCLOSURE_LOCATION', 'WORKSITE_CITY', 'WORKSITE_COUNTY',\n",
       "       'WORKSITE_STATE', 'WORKSITE_POSTAL_CODE', 'ORIGINAL_CERT_DATE'],\n",
       "      dtype='object')"
      ]
     },
     "execution_count": 1,
     "metadata": {},
     "output_type": "execute_result"
    }
   ],
   "source": [
    "import os\n",
    "os.getcwd()\n",
    "os.chdir(\"D:\\Ashwani\\Learning\\GreyAtom\\Hackathon\")\n",
    "import pandas as pd\n",
    "#df = pd.read_csv(\"H-1B_Disclosure_Data_FY17.csv\")\n",
    "#df.to_pickle(\"H-1B_Disclosure_Data_FY17.pkl\")\n",
    "df= pd.read_pickle(\"H-1B_Disclosure_Data_FY17.pkl\")\n",
    "df.columns"
   ]
  },
  {
   "cell_type": "code",
   "execution_count": 2,
   "metadata": {},
   "outputs": [
    {
     "data": {
      "text/plain": [
       "H-1B               610304\n",
       "E-3 Australian      12157\n",
       "H-1B1 Singapore      1254\n",
       "H-1B1 Chile           935\n",
       "Name: VISA_CLASS, dtype: int64"
      ]
     },
     "execution_count": 2,
     "metadata": {},
     "output_type": "execute_result"
    }
   ],
   "source": [
    "df[\"VISA_CLASS\"].value_counts()"
   ]
  },
  {
   "cell_type": "code",
   "execution_count": 3,
   "metadata": {},
   "outputs": [],
   "source": [
    "df = df[df[\"VISA_CLASS\"] == \"H-1B\"]"
   ]
  },
  {
   "cell_type": "raw",
   "metadata": {},
   "source": [
    "# Removinng below variables as per reasons mentioned\n",
    "Unnamed: 0 : Index variable so no need to include\n",
    "NAICS_CODE : Not affecting the target variable\n",
    "VISA_CLASS : There is only one value as we are only considering the H1B Visa\n",
    "CASE_NUMBER : Case identification\n",
    "WAGE_RATE_OF_PAY_FROM : This is correlated with Prevailing Wages\n",
    "PW_Source : Not affecting the target variable and correlated with other Employer related metrics.\n",
    "PREVAILING_WAGE : Converted into Categorical variable so no need to keep this\n",
    "WAGE_RATE_OF_PAY_TO : This is correlated with Prevailing Wages and also very less values available here"
   ]
  },
  {
   "cell_type": "code",
   "execution_count": 4,
   "metadata": {},
   "outputs": [],
   "source": [
    "drp = [\"VISA_CLASS\",\"WAGE_RATE_OF_PAY_TO\",\"Unnamed: 0\",\"CASE_NUMBER\", \"EMPLOYER_BUSINESS_DBA\", 'EMPLOYER_ADDRESS',\n",
    "       'EMPLOYER_CITY', 'EMPLOYER_POSTAL_CODE', 'EMPLOYER_COUNTRY','EMPLOYER_STATE','EMPLOYER_PROVINCE','EMPLOYER_PHONE', \n",
    "       'EMPLOYER_PHONE_EXT', 'AGENT_ATTORNEY_NAME', 'AGENT_ATTORNEY_CITY', 'SOC_NAME', 'PUBLIC_DISCLOSURE_LOCATION',\n",
    "       'WORKSITE_CITY', 'WORKSITE_COUNTY','WORKSITE_POSTAL_CODE', 'ORIGINAL_CERT_DATE']"
   ]
  },
  {
   "cell_type": "code",
   "execution_count": 5,
   "metadata": {},
   "outputs": [
    {
     "data": {
      "text/plain": [
       "Index(['CASE_STATUS', 'CASE_SUBMITTED', 'DECISION_DATE',\n",
       "       'EMPLOYMENT_START_DATE', 'EMPLOYMENT_END_DATE', 'EMPLOYER_NAME',\n",
       "       'AGENT_REPRESENTING_EMPLOYER', 'AGENT_ATTORNEY_STATE', 'JOB_TITLE',\n",
       "       'SOC_CODE', 'NAICS_CODE', 'TOTAL_WORKERS', 'NEW_EMPLOYMENT',\n",
       "       'CONTINUED_EMPLOYMENT', 'CHANGE_PREVIOUS_EMPLOYMENT',\n",
       "       'NEW_CONCURRENT_EMPLOYMENT', 'CHANGE_EMPLOYER', 'AMENDED_PETITION',\n",
       "       'FULL_TIME_POSITION', 'PREVAILING_WAGE', 'PW_UNIT_OF_PAY',\n",
       "       'PW_WAGE_LEVEL', 'PW_SOURCE', 'PW_SOURCE_YEAR', 'PW_SOURCE_OTHER',\n",
       "       'WAGE_RATE_OF_PAY_FROM', 'WAGE_UNIT_OF_PAY', 'H1B_DEPENDENT',\n",
       "       'WILLFUL_VIOLATOR', 'SUPPORT_H1B', 'LABOR_CON_AGREE', 'WORKSITE_STATE'],\n",
       "      dtype='object')"
      ]
     },
     "execution_count": 5,
     "metadata": {},
     "output_type": "execute_result"
    }
   ],
   "source": [
    "df_new = df.drop(drp,1)\n",
    "df_new.columns"
   ]
  },
  {
   "cell_type": "code",
   "execution_count": 6,
   "metadata": {},
   "outputs": [],
   "source": [
    "miss_cols = pd.DataFrame(df_new.isnull().sum()[((df_new.isnull().sum()/df_new.shape[0])*100)>30]).index.tolist()\n",
    "df = df_new.drop(miss_cols,1)"
   ]
  },
  {
   "cell_type": "code",
   "execution_count": 7,
   "metadata": {},
   "outputs": [
    {
     "data": {
      "text/plain": [
       "(610304, 29)"
      ]
     },
     "execution_count": 7,
     "metadata": {},
     "output_type": "execute_result"
    }
   ],
   "source": [
    "df.shape"
   ]
  },
  {
   "cell_type": "code",
   "execution_count": 8,
   "metadata": {},
   "outputs": [
    {
     "data": {
      "text/plain": [
       "['AGENT_ATTORNEY_STATE', 'SUPPORT_H1B', 'LABOR_CON_AGREE']"
      ]
     },
     "execution_count": 8,
     "metadata": {},
     "output_type": "execute_result"
    }
   ],
   "source": [
    "miss_cols"
   ]
  },
  {
   "cell_type": "code",
   "execution_count": 9,
   "metadata": {},
   "outputs": [
    {
     "data": {
      "text/html": [
       "<div>\n",
       "<style scoped>\n",
       "    .dataframe tbody tr th:only-of-type {\n",
       "        vertical-align: middle;\n",
       "    }\n",
       "\n",
       "    .dataframe tbody tr th {\n",
       "        vertical-align: top;\n",
       "    }\n",
       "\n",
       "    .dataframe thead th {\n",
       "        text-align: right;\n",
       "    }\n",
       "</style>\n",
       "<table border=\"1\" class=\"dataframe\">\n",
       "  <thead>\n",
       "    <tr style=\"text-align: right;\">\n",
       "      <th></th>\n",
       "      <th>CASE_STATUS</th>\n",
       "      <th>CASE_SUBMITTED</th>\n",
       "      <th>DECISION_DATE</th>\n",
       "      <th>EMPLOYMENT_START_DATE</th>\n",
       "      <th>EMPLOYMENT_END_DATE</th>\n",
       "      <th>EMPLOYER_NAME</th>\n",
       "      <th>AGENT_REPRESENTING_EMPLOYER</th>\n",
       "      <th>JOB_TITLE</th>\n",
       "      <th>SOC_CODE</th>\n",
       "      <th>NAICS_CODE</th>\n",
       "      <th>...</th>\n",
       "      <th>PW_UNIT_OF_PAY</th>\n",
       "      <th>PW_WAGE_LEVEL</th>\n",
       "      <th>PW_SOURCE</th>\n",
       "      <th>PW_SOURCE_YEAR</th>\n",
       "      <th>PW_SOURCE_OTHER</th>\n",
       "      <th>WAGE_RATE_OF_PAY_FROM</th>\n",
       "      <th>WAGE_UNIT_OF_PAY</th>\n",
       "      <th>H1B_DEPENDENT</th>\n",
       "      <th>WILLFUL_VIOLATOR</th>\n",
       "      <th>WORKSITE_STATE</th>\n",
       "    </tr>\n",
       "  </thead>\n",
       "  <tbody>\n",
       "    <tr>\n",
       "      <th>0</th>\n",
       "      <td>CERTIFIED-WITHDRAWN</td>\n",
       "      <td>2016-02-24</td>\n",
       "      <td>2016-10-01</td>\n",
       "      <td>2016-08-10</td>\n",
       "      <td>2019-08-10</td>\n",
       "      <td>DISCOVER PRODUCTS INC.</td>\n",
       "      <td>Y</td>\n",
       "      <td>ASSOCIATE DATA INTEGRATION</td>\n",
       "      <td>15-1121</td>\n",
       "      <td>522210</td>\n",
       "      <td>...</td>\n",
       "      <td>Year</td>\n",
       "      <td>Level I</td>\n",
       "      <td>OES</td>\n",
       "      <td>2015.0</td>\n",
       "      <td>OFLC ONLINE DATA CENTER</td>\n",
       "      <td>65811.0</td>\n",
       "      <td>Year</td>\n",
       "      <td>N</td>\n",
       "      <td>N</td>\n",
       "      <td>IL</td>\n",
       "    </tr>\n",
       "    <tr>\n",
       "      <th>1</th>\n",
       "      <td>CERTIFIED-WITHDRAWN</td>\n",
       "      <td>2016-03-04</td>\n",
       "      <td>2016-10-01</td>\n",
       "      <td>2016-08-16</td>\n",
       "      <td>2019-08-16</td>\n",
       "      <td>DFS SERVICES LLC</td>\n",
       "      <td>Y</td>\n",
       "      <td>SENIOR ASSOCIATE</td>\n",
       "      <td>15-2031</td>\n",
       "      <td>522210</td>\n",
       "      <td>...</td>\n",
       "      <td>Year</td>\n",
       "      <td>NaN</td>\n",
       "      <td>Other</td>\n",
       "      <td>2015.0</td>\n",
       "      <td>TOWERS WATSON DATA SERVICES 2015 CSR PROFESSIO...</td>\n",
       "      <td>53000.0</td>\n",
       "      <td>Year</td>\n",
       "      <td>N</td>\n",
       "      <td>N</td>\n",
       "      <td>IL</td>\n",
       "    </tr>\n",
       "    <tr>\n",
       "      <th>2</th>\n",
       "      <td>CERTIFIED-WITHDRAWN</td>\n",
       "      <td>2016-03-10</td>\n",
       "      <td>2016-10-01</td>\n",
       "      <td>2016-09-09</td>\n",
       "      <td>2019-09-09</td>\n",
       "      <td>EASTBANC TECHNOLOGIES LLC</td>\n",
       "      <td>Y</td>\n",
       "      <td>.NET SOFTWARE PROGRAMMER</td>\n",
       "      <td>15-1131</td>\n",
       "      <td>541511</td>\n",
       "      <td>...</td>\n",
       "      <td>Year</td>\n",
       "      <td>Level II</td>\n",
       "      <td>OES</td>\n",
       "      <td>2015.0</td>\n",
       "      <td>OFLC ONLINE DATA CENTER</td>\n",
       "      <td>77000.0</td>\n",
       "      <td>Year</td>\n",
       "      <td>Y</td>\n",
       "      <td>N</td>\n",
       "      <td>DC</td>\n",
       "    </tr>\n",
       "    <tr>\n",
       "      <th>3</th>\n",
       "      <td>WITHDRAWN</td>\n",
       "      <td>2016-09-28</td>\n",
       "      <td>2016-10-01</td>\n",
       "      <td>2017-01-26</td>\n",
       "      <td>2020-01-25</td>\n",
       "      <td>INFO SERVICES LLC</td>\n",
       "      <td>N</td>\n",
       "      <td>PROJECT MANAGER</td>\n",
       "      <td>15-1199</td>\n",
       "      <td>541511</td>\n",
       "      <td>...</td>\n",
       "      <td>Year</td>\n",
       "      <td>Level III</td>\n",
       "      <td>OES</td>\n",
       "      <td>2016.0</td>\n",
       "      <td>OFLC ONLINE DATA CENTER</td>\n",
       "      <td>102000.0</td>\n",
       "      <td>Year</td>\n",
       "      <td>Y</td>\n",
       "      <td>N</td>\n",
       "      <td>NJ</td>\n",
       "    </tr>\n",
       "    <tr>\n",
       "      <th>4</th>\n",
       "      <td>CERTIFIED-WITHDRAWN</td>\n",
       "      <td>2015-02-22</td>\n",
       "      <td>2016-10-02</td>\n",
       "      <td>2015-03-01</td>\n",
       "      <td>2018-03-01</td>\n",
       "      <td>BB&amp;T CORPORATION</td>\n",
       "      <td>Y</td>\n",
       "      <td>ASSOCIATE - ESOTERIC ASSET BACKED SECURITIES</td>\n",
       "      <td>13-2041</td>\n",
       "      <td>522110</td>\n",
       "      <td>...</td>\n",
       "      <td>Year</td>\n",
       "      <td>Level III</td>\n",
       "      <td>OES</td>\n",
       "      <td>2015.0</td>\n",
       "      <td>OFLC ONLINE DATA CENTER</td>\n",
       "      <td>132500.0</td>\n",
       "      <td>Year</td>\n",
       "      <td>N</td>\n",
       "      <td>N</td>\n",
       "      <td>NY</td>\n",
       "    </tr>\n",
       "  </tbody>\n",
       "</table>\n",
       "<p>5 rows × 29 columns</p>\n",
       "</div>"
      ],
      "text/plain": [
       "           CASE_STATUS CASE_SUBMITTED DECISION_DATE EMPLOYMENT_START_DATE  \\\n",
       "0  CERTIFIED-WITHDRAWN     2016-02-24    2016-10-01            2016-08-10   \n",
       "1  CERTIFIED-WITHDRAWN     2016-03-04    2016-10-01            2016-08-16   \n",
       "2  CERTIFIED-WITHDRAWN     2016-03-10    2016-10-01            2016-09-09   \n",
       "3            WITHDRAWN     2016-09-28    2016-10-01            2017-01-26   \n",
       "4  CERTIFIED-WITHDRAWN     2015-02-22    2016-10-02            2015-03-01   \n",
       "\n",
       "  EMPLOYMENT_END_DATE              EMPLOYER_NAME AGENT_REPRESENTING_EMPLOYER  \\\n",
       "0          2019-08-10     DISCOVER PRODUCTS INC.                           Y   \n",
       "1          2019-08-16           DFS SERVICES LLC                           Y   \n",
       "2          2019-09-09  EASTBANC TECHNOLOGIES LLC                           Y   \n",
       "3          2020-01-25          INFO SERVICES LLC                           N   \n",
       "4          2018-03-01           BB&T CORPORATION                           Y   \n",
       "\n",
       "                                      JOB_TITLE SOC_CODE NAICS_CODE  \\\n",
       "0                    ASSOCIATE DATA INTEGRATION  15-1121     522210   \n",
       "1                              SENIOR ASSOCIATE  15-2031     522210   \n",
       "2                      .NET SOFTWARE PROGRAMMER  15-1131     541511   \n",
       "3                               PROJECT MANAGER  15-1199     541511   \n",
       "4  ASSOCIATE - ESOTERIC ASSET BACKED SECURITIES  13-2041     522110   \n",
       "\n",
       "       ...        PW_UNIT_OF_PAY  PW_WAGE_LEVEL  PW_SOURCE  PW_SOURCE_YEAR  \\\n",
       "0      ...                  Year        Level I        OES          2015.0   \n",
       "1      ...                  Year            NaN      Other          2015.0   \n",
       "2      ...                  Year       Level II        OES          2015.0   \n",
       "3      ...                  Year      Level III        OES          2016.0   \n",
       "4      ...                  Year      Level III        OES          2015.0   \n",
       "\n",
       "                                     PW_SOURCE_OTHER  WAGE_RATE_OF_PAY_FROM  \\\n",
       "0                            OFLC ONLINE DATA CENTER                65811.0   \n",
       "1  TOWERS WATSON DATA SERVICES 2015 CSR PROFESSIO...                53000.0   \n",
       "2                            OFLC ONLINE DATA CENTER                77000.0   \n",
       "3                            OFLC ONLINE DATA CENTER               102000.0   \n",
       "4                            OFLC ONLINE DATA CENTER               132500.0   \n",
       "\n",
       "   WAGE_UNIT_OF_PAY H1B_DEPENDENT  WILLFUL_VIOLATOR WORKSITE_STATE  \n",
       "0              Year             N                 N             IL  \n",
       "1              Year             N                 N             IL  \n",
       "2              Year             Y                 N             DC  \n",
       "3              Year             Y                 N             NJ  \n",
       "4              Year             N                 N             NY  \n",
       "\n",
       "[5 rows x 29 columns]"
      ]
     },
     "execution_count": 9,
     "metadata": {},
     "output_type": "execute_result"
    }
   ],
   "source": [
    "df.head()"
   ]
  },
  {
   "cell_type": "code",
   "execution_count": 10,
   "metadata": {},
   "outputs": [
    {
     "data": {
      "text/plain": [
       "CASE_STATUS                         0\n",
       "CASE_SUBMITTED                      0\n",
       "DECISION_DATE                       0\n",
       "EMPLOYMENT_START_DATE              24\n",
       "EMPLOYMENT_END_DATE                24\n",
       "EMPLOYER_NAME                      54\n",
       "AGENT_REPRESENTING_EMPLOYER     92941\n",
       "JOB_TITLE                           5\n",
       "SOC_CODE                            2\n",
       "NAICS_CODE                          7\n",
       "TOTAL_WORKERS                       0\n",
       "NEW_EMPLOYMENT                      0\n",
       "CONTINUED_EMPLOYMENT                0\n",
       "CHANGE_PREVIOUS_EMPLOYMENT          0\n",
       "NEW_CONCURRENT_EMPLOYMENT           0\n",
       "CHANGE_EMPLOYER                     0\n",
       "AMENDED_PETITION                    0\n",
       "FULL_TIME_POSITION                  5\n",
       "PREVAILING_WAGE                     1\n",
       "PW_UNIT_OF_PAY                     32\n",
       "PW_WAGE_LEVEL                  119458\n",
       "PW_SOURCE                          31\n",
       "PW_SOURCE_YEAR                     31\n",
       "PW_SOURCE_OTHER                  5931\n",
       "WAGE_RATE_OF_PAY_FROM               0\n",
       "WAGE_UNIT_OF_PAY                    8\n",
       "H1B_DEPENDENT                       4\n",
       "WILLFUL_VIOLATOR                    4\n",
       "WORKSITE_STATE                      9\n",
       "dtype: int64"
      ]
     },
     "execution_count": 10,
     "metadata": {},
     "output_type": "execute_result"
    }
   ],
   "source": [
    "df.isnull().sum()"
   ]
  },
  {
   "cell_type": "code",
   "execution_count": 11,
   "metadata": {},
   "outputs": [],
   "source": [
    "df['YEAR_SUBMISSION']=pd.to_datetime(df['CASE_SUBMITTED']).dt.year"
   ]
  },
  {
   "cell_type": "code",
   "execution_count": 12,
   "metadata": {},
   "outputs": [],
   "source": [
    "df = df.drop(['CASE_SUBMITTED'],1)"
   ]
  },
  {
   "cell_type": "code",
   "execution_count": 13,
   "metadata": {},
   "outputs": [],
   "source": [
    "df[\"PW_WAGE_LEVEL\"] = df[\"PW_WAGE_LEVEL\"].fillna(\"Other\")"
   ]
  },
  {
   "cell_type": "code",
   "execution_count": 14,
   "metadata": {},
   "outputs": [
    {
     "data": {
      "text/plain": [
       "Level I      218613\n",
       "Level II     176661\n",
       "Other        119458\n",
       "Level III     60950\n",
       "Level IV      34622\n",
       "Name: PW_WAGE_LEVEL, dtype: int64"
      ]
     },
     "execution_count": 14,
     "metadata": {},
     "output_type": "execute_result"
    }
   ],
   "source": [
    "df[\"PW_WAGE_LEVEL\"].value_counts()"
   ]
  },
  {
   "cell_type": "code",
   "execution_count": 15,
   "metadata": {},
   "outputs": [],
   "source": [
    "df[\"AGENT_REPRESENTING_EMPLOYER\"] = df[\"AGENT_REPRESENTING_EMPLOYER\"].fillna(\"Unknown\")"
   ]
  },
  {
   "cell_type": "code",
   "execution_count": 16,
   "metadata": {},
   "outputs": [
    {
     "data": {
      "text/plain": [
       "Y          343499\n",
       "N          173864\n",
       "Unknown     92941\n",
       "Name: AGENT_REPRESENTING_EMPLOYER, dtype: int64"
      ]
     },
     "execution_count": 16,
     "metadata": {},
     "output_type": "execute_result"
    }
   ],
   "source": [
    "df[\"AGENT_REPRESENTING_EMPLOYER\"].value_counts()"
   ]
  },
  {
   "cell_type": "code",
   "execution_count": 17,
   "metadata": {},
   "outputs": [],
   "source": [
    "df = df.drop(\"PW_SOURCE_OTHER\",1)"
   ]
  },
  {
   "cell_type": "code",
   "execution_count": 18,
   "metadata": {},
   "outputs": [],
   "source": [
    "df[\"H1B_DEPENDENT\"] = df[\"H1B_DEPENDENT\"].fillna(\"Unknown\")\n",
    "df[\"WILLFUL_VIOLATOR\"] = df[\"WILLFUL_VIOLATOR\"].fillna(\"Unknown\")"
   ]
  },
  {
   "cell_type": "code",
   "execution_count": 19,
   "metadata": {},
   "outputs": [],
   "source": [
    "cols = df.columns\n",
    "for column in cols:\n",
    "    df[column].fillna(df[column].mode()[0], inplace=True)"
   ]
  },
  {
   "cell_type": "code",
   "execution_count": 20,
   "metadata": {},
   "outputs": [
    {
     "data": {
      "text/plain": [
       "CASE_STATUS                    0\n",
       "DECISION_DATE                  0\n",
       "EMPLOYMENT_START_DATE          0\n",
       "EMPLOYMENT_END_DATE            0\n",
       "EMPLOYER_NAME                  0\n",
       "AGENT_REPRESENTING_EMPLOYER    0\n",
       "JOB_TITLE                      0\n",
       "SOC_CODE                       0\n",
       "NAICS_CODE                     0\n",
       "TOTAL_WORKERS                  0\n",
       "NEW_EMPLOYMENT                 0\n",
       "CONTINUED_EMPLOYMENT           0\n",
       "CHANGE_PREVIOUS_EMPLOYMENT     0\n",
       "NEW_CONCURRENT_EMPLOYMENT      0\n",
       "CHANGE_EMPLOYER                0\n",
       "AMENDED_PETITION               0\n",
       "FULL_TIME_POSITION             0\n",
       "PREVAILING_WAGE                0\n",
       "PW_UNIT_OF_PAY                 0\n",
       "PW_WAGE_LEVEL                  0\n",
       "PW_SOURCE                      0\n",
       "PW_SOURCE_YEAR                 0\n",
       "WAGE_RATE_OF_PAY_FROM          0\n",
       "WAGE_UNIT_OF_PAY               0\n",
       "H1B_DEPENDENT                  0\n",
       "WILLFUL_VIOLATOR               0\n",
       "WORKSITE_STATE                 0\n",
       "YEAR_SUBMISSION                0\n",
       "dtype: int64"
      ]
     },
     "execution_count": 20,
     "metadata": {},
     "output_type": "execute_result"
    }
   ],
   "source": [
    "df.isnull().sum()"
   ]
  },
  {
   "cell_type": "code",
   "execution_count": 21,
   "metadata": {},
   "outputs": [],
   "source": [
    "df = df[df[\"PW_SOURCE_YEAR\"]>1900]  \n",
    "df[\"PW_SOURCE_DURATION\"] = 2019 - df[\"PW_SOURCE_YEAR\"]\n",
    "df = df.drop([\"PW_SOURCE_YEAR\"],1)\n",
    "\n",
    "df[\"EMPLOYMENT_END_DATE\"]= pd.to_datetime(df[\"EMPLOYMENT_END_DATE\"])\n",
    "df[\"EMPLOYMENT_START_DATE\"] = pd.to_datetime(df[\"EMPLOYMENT_START_DATE\"])\n",
    "df[\"EMPLOYMENT_DURATION\"] = (df[\"EMPLOYMENT_END_DATE\"] - df[\"EMPLOYMENT_START_DATE\"]).dt.days\n",
    "df = df.drop([\"EMPLOYMENT_END_DATE\",\"EMPLOYMENT_START_DATE\"],1)"
   ]
  },
  {
   "cell_type": "code",
   "execution_count": 22,
   "metadata": {},
   "outputs": [],
   "source": [
    "#Transforming Wage columns to same unit \"Year\"\n",
    "df.loc[df[\"PW_UNIT_OF_PAY\"]==\"Month\",\"PREVAILING_WAGE\"] = df.loc[df[\"PW_UNIT_OF_PAY\"]==\"Month\",\"PREVAILING_WAGE\"]*12\n",
    "df.loc[df[\"PW_UNIT_OF_PAY\"]==\"Bi-Weekly\",\"PREVAILING_WAGE\"] = df.loc[df[\"PW_UNIT_OF_PAY\"]==\"Bi-Weekly\",\"PREVAILING_WAGE\"]*26\n",
    "df.loc[df[\"PW_UNIT_OF_PAY\"]==\"Week\",\"PREVAILING_WAGE\"] = df.loc[df[\"PW_UNIT_OF_PAY\"]==\"Week\",\"PREVAILING_WAGE\"]*52\n",
    "df.loc[df[\"PW_UNIT_OF_PAY\"]==\"Hour\",\"PREVAILING_WAGE\"] = df.loc[df[\"PW_UNIT_OF_PAY\"]==\"Hour\",\"PREVAILING_WAGE\"]*8*5*52\n",
    "\n",
    "df = df.drop(\"PW_UNIT_OF_PAY\",1)"
   ]
  },
  {
   "cell_type": "code",
   "execution_count": 23,
   "metadata": {},
   "outputs": [],
   "source": [
    "df.loc[df[\"WAGE_UNIT_OF_PAY\"]==\"Month\",\"WAGE_RATE_OF_PAY_FROM\"] = df.loc[df[\"WAGE_UNIT_OF_PAY\"]==\"Month\",\"WAGE_RATE_OF_PAY_FROM\"]*12\n",
    "df.loc[df[\"WAGE_UNIT_OF_PAY\"]==\"Bi-Weekly\",\"WAGE_RATE_OF_PAY_FROM\"] = df.loc[df[\"WAGE_UNIT_OF_PAY\"]==\"Bi-Weekly\",\"WAGE_RATE_OF_PAY_FROM\"]*26\n",
    "df.loc[df[\"WAGE_UNIT_OF_PAY\"]==\"Week\",\"WAGE_RATE_OF_PAY_FROM\"] = df.loc[df[\"WAGE_UNIT_OF_PAY\"]==\"Week\",\"WAGE_RATE_OF_PAY_FROM\"]*52\n",
    "df.loc[df[\"WAGE_UNIT_OF_PAY\"]==\"Hour\",\"WAGE_RATE_OF_PAY_FROM\"] = df.loc[df[\"WAGE_UNIT_OF_PAY\"]==\"Hour\",\"WAGE_RATE_OF_PAY_FROM\"]*8*5*52\n",
    "\n",
    "df = df.drop(\"WAGE_UNIT_OF_PAY\",1)"
   ]
  },
  {
   "cell_type": "code",
   "execution_count": 24,
   "metadata": {},
   "outputs": [],
   "source": [
    "#Transforming Target into 2 classes\n",
    "df.loc[df[\"CASE_STATUS\"]==\"DENIED\",\"NEW_CASE_STATUS\"] = \"NOT CERTIFIED\"\n",
    "df.loc[df[\"CASE_STATUS\"]==\"WITHDRAWN\",\"NEW_CASE_STATUS\"] = \"NOT CERTIFIED\"\n",
    "df.loc[df[\"CASE_STATUS\"]==\"CERTIFIED\",\"NEW_CASE_STATUS\"] = \"CERTIFIED\"\n",
    "df = df.drop(\"CASE_STATUS\",1)"
   ]
  },
  {
   "cell_type": "code",
   "execution_count": 25,
   "metadata": {},
   "outputs": [
    {
     "data": {
      "text/html": [
       "<div>\n",
       "<style scoped>\n",
       "    .dataframe tbody tr th:only-of-type {\n",
       "        vertical-align: middle;\n",
       "    }\n",
       "\n",
       "    .dataframe tbody tr th {\n",
       "        vertical-align: top;\n",
       "    }\n",
       "\n",
       "    .dataframe thead th {\n",
       "        text-align: right;\n",
       "    }\n",
       "</style>\n",
       "<table border=\"1\" class=\"dataframe\">\n",
       "  <thead>\n",
       "    <tr style=\"text-align: right;\">\n",
       "      <th></th>\n",
       "      <th>DECISION_DATE</th>\n",
       "      <th>EMPLOYER_NAME</th>\n",
       "      <th>AGENT_REPRESENTING_EMPLOYER</th>\n",
       "      <th>JOB_TITLE</th>\n",
       "      <th>SOC_CODE</th>\n",
       "      <th>NAICS_CODE</th>\n",
       "      <th>TOTAL_WORKERS</th>\n",
       "      <th>NEW_EMPLOYMENT</th>\n",
       "      <th>CONTINUED_EMPLOYMENT</th>\n",
       "      <th>CHANGE_PREVIOUS_EMPLOYMENT</th>\n",
       "      <th>...</th>\n",
       "      <th>PW_WAGE_LEVEL</th>\n",
       "      <th>PW_SOURCE</th>\n",
       "      <th>WAGE_RATE_OF_PAY_FROM</th>\n",
       "      <th>H1B_DEPENDENT</th>\n",
       "      <th>WILLFUL_VIOLATOR</th>\n",
       "      <th>WORKSITE_STATE</th>\n",
       "      <th>YEAR_SUBMISSION</th>\n",
       "      <th>PW_SOURCE_DURATION</th>\n",
       "      <th>EMPLOYMENT_DURATION</th>\n",
       "      <th>NEW_CASE_STATUS</th>\n",
       "    </tr>\n",
       "  </thead>\n",
       "  <tbody>\n",
       "    <tr>\n",
       "      <th>3</th>\n",
       "      <td>2016-10-01</td>\n",
       "      <td>INFO SERVICES LLC</td>\n",
       "      <td>N</td>\n",
       "      <td>PROJECT MANAGER</td>\n",
       "      <td>15-1199</td>\n",
       "      <td>541511</td>\n",
       "      <td>1</td>\n",
       "      <td>1</td>\n",
       "      <td>0</td>\n",
       "      <td>0</td>\n",
       "      <td>...</td>\n",
       "      <td>Level III</td>\n",
       "      <td>OES</td>\n",
       "      <td>102000.0</td>\n",
       "      <td>Y</td>\n",
       "      <td>N</td>\n",
       "      <td>NJ</td>\n",
       "      <td>2016</td>\n",
       "      <td>3.0</td>\n",
       "      <td>1094</td>\n",
       "      <td>NOT CERTIFIED</td>\n",
       "    </tr>\n",
       "    <tr>\n",
       "      <th>16</th>\n",
       "      <td>2016-10-02</td>\n",
       "      <td>ITAS INC</td>\n",
       "      <td>Y</td>\n",
       "      <td>COMPUTER SYSTEM ANALYST</td>\n",
       "      <td>15-1121</td>\n",
       "      <td>541519</td>\n",
       "      <td>1</td>\n",
       "      <td>0</td>\n",
       "      <td>0</td>\n",
       "      <td>0</td>\n",
       "      <td>...</td>\n",
       "      <td>Level I</td>\n",
       "      <td>OES</td>\n",
       "      <td>55000.0</td>\n",
       "      <td>N</td>\n",
       "      <td>N</td>\n",
       "      <td>NY</td>\n",
       "      <td>2016</td>\n",
       "      <td>3.0</td>\n",
       "      <td>1094</td>\n",
       "      <td>NOT CERTIFIED</td>\n",
       "    </tr>\n",
       "    <tr>\n",
       "      <th>194</th>\n",
       "      <td>2016-10-03</td>\n",
       "      <td>CLOUDWICK TECHNOLOGIES INC.</td>\n",
       "      <td>Y</td>\n",
       "      <td>HADOOP ADMINISTRATOR</td>\n",
       "      <td>15-1132</td>\n",
       "      <td>541511</td>\n",
       "      <td>1</td>\n",
       "      <td>0</td>\n",
       "      <td>0</td>\n",
       "      <td>0</td>\n",
       "      <td>...</td>\n",
       "      <td>Level I</td>\n",
       "      <td>OES</td>\n",
       "      <td>102149.0</td>\n",
       "      <td>Y</td>\n",
       "      <td>N</td>\n",
       "      <td>CA</td>\n",
       "      <td>2016</td>\n",
       "      <td>3.0</td>\n",
       "      <td>1084</td>\n",
       "      <td>CERTIFIED</td>\n",
       "    </tr>\n",
       "    <tr>\n",
       "      <th>195</th>\n",
       "      <td>2016-10-03</td>\n",
       "      <td>TATA CONSULTANCY SERVICES LIMITED</td>\n",
       "      <td>Y</td>\n",
       "      <td>DEVELOPER USER INTERFACE</td>\n",
       "      <td>15-1134</td>\n",
       "      <td>541511</td>\n",
       "      <td>1</td>\n",
       "      <td>0</td>\n",
       "      <td>0</td>\n",
       "      <td>0</td>\n",
       "      <td>...</td>\n",
       "      <td>Level III</td>\n",
       "      <td>OES</td>\n",
       "      <td>62500.0</td>\n",
       "      <td>Y</td>\n",
       "      <td>N</td>\n",
       "      <td>OH</td>\n",
       "      <td>2016</td>\n",
       "      <td>3.0</td>\n",
       "      <td>1089</td>\n",
       "      <td>CERTIFIED</td>\n",
       "    </tr>\n",
       "    <tr>\n",
       "      <th>196</th>\n",
       "      <td>2016-10-03</td>\n",
       "      <td>HEALTH MANAGEMENT SYSTEMS, INC.</td>\n",
       "      <td>Y</td>\n",
       "      <td>SOLUTION ARCHITECT</td>\n",
       "      <td>15-1132</td>\n",
       "      <td>52429</td>\n",
       "      <td>1</td>\n",
       "      <td>0</td>\n",
       "      <td>1</td>\n",
       "      <td>0</td>\n",
       "      <td>...</td>\n",
       "      <td>Level II</td>\n",
       "      <td>OES</td>\n",
       "      <td>90664.0</td>\n",
       "      <td>N</td>\n",
       "      <td>N</td>\n",
       "      <td>TX</td>\n",
       "      <td>2016</td>\n",
       "      <td>3.0</td>\n",
       "      <td>1095</td>\n",
       "      <td>CERTIFIED</td>\n",
       "    </tr>\n",
       "  </tbody>\n",
       "</table>\n",
       "<p>5 rows × 25 columns</p>\n",
       "</div>"
      ],
      "text/plain": [
       "    DECISION_DATE                      EMPLOYER_NAME  \\\n",
       "3      2016-10-01                  INFO SERVICES LLC   \n",
       "16     2016-10-02                           ITAS INC   \n",
       "194    2016-10-03        CLOUDWICK TECHNOLOGIES INC.   \n",
       "195    2016-10-03  TATA CONSULTANCY SERVICES LIMITED   \n",
       "196    2016-10-03    HEALTH MANAGEMENT SYSTEMS, INC.   \n",
       "\n",
       "    AGENT_REPRESENTING_EMPLOYER                 JOB_TITLE SOC_CODE NAICS_CODE  \\\n",
       "3                             N           PROJECT MANAGER  15-1199     541511   \n",
       "16                            Y   COMPUTER SYSTEM ANALYST  15-1121     541519   \n",
       "194                           Y      HADOOP ADMINISTRATOR  15-1132     541511   \n",
       "195                           Y  DEVELOPER USER INTERFACE  15-1134     541511   \n",
       "196                           Y        SOLUTION ARCHITECT  15-1132      52429   \n",
       "\n",
       "     TOTAL_WORKERS  NEW_EMPLOYMENT  CONTINUED_EMPLOYMENT  \\\n",
       "3                1               1                     0   \n",
       "16               1               0                     0   \n",
       "194              1               0                     0   \n",
       "195              1               0                     0   \n",
       "196              1               0                     1   \n",
       "\n",
       "     CHANGE_PREVIOUS_EMPLOYMENT       ...        PW_WAGE_LEVEL  PW_SOURCE  \\\n",
       "3                             0       ...            Level III        OES   \n",
       "16                            0       ...              Level I        OES   \n",
       "194                           0       ...              Level I        OES   \n",
       "195                           0       ...            Level III        OES   \n",
       "196                           0       ...             Level II        OES   \n",
       "\n",
       "     WAGE_RATE_OF_PAY_FROM H1B_DEPENDENT  WILLFUL_VIOLATOR WORKSITE_STATE  \\\n",
       "3                 102000.0             Y                 N             NJ   \n",
       "16                 55000.0             N                 N             NY   \n",
       "194               102149.0             Y                 N             CA   \n",
       "195                62500.0             Y                 N             OH   \n",
       "196                90664.0             N                 N             TX   \n",
       "\n",
       "    YEAR_SUBMISSION  PW_SOURCE_DURATION EMPLOYMENT_DURATION NEW_CASE_STATUS  \n",
       "3              2016                 3.0                1094   NOT CERTIFIED  \n",
       "16             2016                 3.0                1094   NOT CERTIFIED  \n",
       "194            2016                 3.0                1084       CERTIFIED  \n",
       "195            2016                 3.0                1089       CERTIFIED  \n",
       "196            2016                 3.0                1095       CERTIFIED  \n",
       "\n",
       "[5 rows x 25 columns]"
      ]
     },
     "execution_count": 25,
     "metadata": {},
     "output_type": "execute_result"
    }
   ],
   "source": [
    "df = df.loc[df['NEW_CASE_STATUS'].isin([\"CERTIFIED\", \"NOT CERTIFIED\"])]\n",
    "df.head()"
   ]
  },
  {
   "cell_type": "code",
   "execution_count": 26,
   "metadata": {},
   "outputs": [
    {
     "data": {
      "text/plain": [
       "Index(['DECISION_DATE', 'EMPLOYER_NAME', 'AGENT_REPRESENTING_EMPLOYER',\n",
       "       'JOB_TITLE', 'SOC_CODE', 'NAICS_CODE', 'TOTAL_WORKERS',\n",
       "       'NEW_EMPLOYMENT', 'CONTINUED_EMPLOYMENT', 'CHANGE_PREVIOUS_EMPLOYMENT',\n",
       "       'NEW_CONCURRENT_EMPLOYMENT', 'CHANGE_EMPLOYER', 'AMENDED_PETITION',\n",
       "       'FULL_TIME_POSITION', 'PREVAILING_WAGE', 'PW_WAGE_LEVEL', 'PW_SOURCE',\n",
       "       'WAGE_RATE_OF_PAY_FROM', 'H1B_DEPENDENT', 'WILLFUL_VIOLATOR',\n",
       "       'WORKSITE_STATE', 'YEAR_SUBMISSION', 'PW_SOURCE_DURATION',\n",
       "       'EMPLOYMENT_DURATION', 'NEW_CASE_STATUS'],\n",
       "      dtype='object')"
      ]
     },
     "execution_count": 26,
     "metadata": {},
     "output_type": "execute_result"
    }
   ],
   "source": [
    "df.columns"
   ]
  },
  {
   "cell_type": "code",
   "execution_count": 27,
   "metadata": {},
   "outputs": [
    {
     "data": {
      "text/plain": [
       "CERTIFIED        533620\n",
       "NOT CERTIFIED     27801\n",
       "Name: NEW_CASE_STATUS, dtype: int64"
      ]
     },
     "execution_count": 27,
     "metadata": {},
     "output_type": "execute_result"
    }
   ],
   "source": [
    "df['NEW_CASE_STATUS'].value_counts()"
   ]
  },
  {
   "cell_type": "code",
   "execution_count": 28,
   "metadata": {},
   "outputs": [],
   "source": [
    "def wage_categorization(wage):\n",
    "    if wage <=50000:\n",
    "        return \"VERY LOW\"\n",
    "    elif wage >50000 and wage <= 70000:\n",
    "        return \"LOW\"\n",
    "    elif wage >70000 and wage <= 90000:\n",
    "        return \"MEDIUM\"\n",
    "    elif wage >90000 and wage<=150000:\n",
    "        return \"HIGH\"\n",
    "    elif wage >=150000:\n",
    "        return \"VERY HIGH\""
   ]
  },
  {
   "cell_type": "code",
   "execution_count": 29,
   "metadata": {},
   "outputs": [],
   "source": [
    "df['WAGE_CATEGORY'] = df['PREVAILING_WAGE'].apply(wage_categorization)"
   ]
  },
  {
   "cell_type": "code",
   "execution_count": 30,
   "metadata": {},
   "outputs": [
    {
     "data": {
      "text/plain": [
       "LOW          202521\n",
       "MEDIUM       160052\n",
       "HIGH         130059\n",
       "VERY LOW      58171\n",
       "VERY HIGH     10618\n",
       "Name: WAGE_CATEGORY, dtype: int64"
      ]
     },
     "execution_count": 30,
     "metadata": {},
     "output_type": "execute_result"
    }
   ],
   "source": [
    "df['WAGE_CATEGORY'].value_counts()"
   ]
  },
  {
   "cell_type": "code",
   "execution_count": 31,
   "metadata": {},
   "outputs": [],
   "source": [
    "df = df.drop(['NAICS_CODE', 'WAGE_RATE_OF_PAY_FROM','PW_SOURCE','PREVAILING_WAGE'],1)"
   ]
  },
  {
   "cell_type": "code",
   "execution_count": 32,
   "metadata": {},
   "outputs": [
    {
     "data": {
      "text/plain": [
       "Index(['DECISION_DATE', 'EMPLOYER_NAME', 'AGENT_REPRESENTING_EMPLOYER',\n",
       "       'JOB_TITLE', 'SOC_CODE', 'TOTAL_WORKERS', 'NEW_EMPLOYMENT',\n",
       "       'CONTINUED_EMPLOYMENT', 'CHANGE_PREVIOUS_EMPLOYMENT',\n",
       "       'NEW_CONCURRENT_EMPLOYMENT', 'CHANGE_EMPLOYER', 'AMENDED_PETITION',\n",
       "       'FULL_TIME_POSITION', 'PW_WAGE_LEVEL', 'H1B_DEPENDENT',\n",
       "       'WILLFUL_VIOLATOR', 'WORKSITE_STATE', 'YEAR_SUBMISSION',\n",
       "       'PW_SOURCE_DURATION', 'EMPLOYMENT_DURATION', 'NEW_CASE_STATUS',\n",
       "       'WAGE_CATEGORY'],\n",
       "      dtype='object')"
      ]
     },
     "execution_count": 32,
     "metadata": {},
     "output_type": "execute_result"
    }
   ],
   "source": [
    "df.columns"
   ]
  },
  {
   "cell_type": "code",
   "execution_count": 33,
   "metadata": {},
   "outputs": [
    {
     "data": {
      "text/plain": [
       "Index(['EMPLOYER_NAME', 'AGENT_REPRESENTING_EMPLOYER', 'JOB_TITLE', 'SOC_CODE',\n",
       "       'TOTAL_WORKERS', 'NEW_EMPLOYMENT', 'CONTINUED_EMPLOYMENT',\n",
       "       'CHANGE_PREVIOUS_EMPLOYMENT', 'NEW_CONCURRENT_EMPLOYMENT',\n",
       "       'CHANGE_EMPLOYER', 'AMENDED_PETITION', 'FULL_TIME_POSITION',\n",
       "       'PW_WAGE_LEVEL', 'H1B_DEPENDENT', 'WILLFUL_VIOLATOR', 'WORKSITE_STATE',\n",
       "       'YEAR_SUBMISSION', 'PW_SOURCE_DURATION', 'EMPLOYMENT_DURATION',\n",
       "       'NEW_CASE_STATUS', 'WAGE_CATEGORY'],\n",
       "      dtype='object')"
      ]
     },
     "execution_count": 33,
     "metadata": {},
     "output_type": "execute_result"
    }
   ],
   "source": [
    "df = df.drop(['DECISION_DATE',],1)\n",
    "df.columns"
   ]
  },
  {
   "cell_type": "code",
   "execution_count": 34,
   "metadata": {},
   "outputs": [
    {
     "data": {
      "text/plain": [
       "(561421, 21)"
      ]
     },
     "execution_count": 34,
     "metadata": {},
     "output_type": "execute_result"
    }
   ],
   "source": [
    "df.shape"
   ]
  },
  {
   "cell_type": "code",
   "execution_count": 35,
   "metadata": {},
   "outputs": [],
   "source": [
    "from sklearn.preprocessing import LabelEncoder\n",
    "import numpy as np\n",
    "categ = df.select_dtypes(exclude = np.number)\n",
    "num = df.select_dtypes(include = np.number)\n",
    "le = LabelEncoder()"
   ]
  },
  {
   "cell_type": "code",
   "execution_count": 36,
   "metadata": {},
   "outputs": [
    {
     "data": {
      "text/html": [
       "<div>\n",
       "<style scoped>\n",
       "    .dataframe tbody tr th:only-of-type {\n",
       "        vertical-align: middle;\n",
       "    }\n",
       "\n",
       "    .dataframe tbody tr th {\n",
       "        vertical-align: top;\n",
       "    }\n",
       "\n",
       "    .dataframe thead th {\n",
       "        text-align: right;\n",
       "    }\n",
       "</style>\n",
       "<table border=\"1\" class=\"dataframe\">\n",
       "  <thead>\n",
       "    <tr style=\"text-align: right;\">\n",
       "      <th></th>\n",
       "      <th>EMPLOYER_NAME</th>\n",
       "      <th>AGENT_REPRESENTING_EMPLOYER</th>\n",
       "      <th>JOB_TITLE</th>\n",
       "      <th>SOC_CODE</th>\n",
       "      <th>FULL_TIME_POSITION</th>\n",
       "      <th>PW_WAGE_LEVEL</th>\n",
       "      <th>H1B_DEPENDENT</th>\n",
       "      <th>WILLFUL_VIOLATOR</th>\n",
       "      <th>WORKSITE_STATE</th>\n",
       "      <th>NEW_CASE_STATUS</th>\n",
       "      <th>WAGE_CATEGORY</th>\n",
       "    </tr>\n",
       "  </thead>\n",
       "  <tbody>\n",
       "    <tr>\n",
       "      <th>3</th>\n",
       "      <td>INFO SERVICES LLC</td>\n",
       "      <td>N</td>\n",
       "      <td>PROJECT MANAGER</td>\n",
       "      <td>15-1199</td>\n",
       "      <td>Y</td>\n",
       "      <td>Level III</td>\n",
       "      <td>Y</td>\n",
       "      <td>N</td>\n",
       "      <td>NJ</td>\n",
       "      <td>NOT CERTIFIED</td>\n",
       "      <td>HIGH</td>\n",
       "    </tr>\n",
       "    <tr>\n",
       "      <th>16</th>\n",
       "      <td>ITAS INC</td>\n",
       "      <td>Y</td>\n",
       "      <td>COMPUTER SYSTEM ANALYST</td>\n",
       "      <td>15-1121</td>\n",
       "      <td>Y</td>\n",
       "      <td>Level I</td>\n",
       "      <td>N</td>\n",
       "      <td>N</td>\n",
       "      <td>NY</td>\n",
       "      <td>NOT CERTIFIED</td>\n",
       "      <td>LOW</td>\n",
       "    </tr>\n",
       "    <tr>\n",
       "      <th>194</th>\n",
       "      <td>CLOUDWICK TECHNOLOGIES INC.</td>\n",
       "      <td>Y</td>\n",
       "      <td>HADOOP ADMINISTRATOR</td>\n",
       "      <td>15-1132</td>\n",
       "      <td>Y</td>\n",
       "      <td>Level I</td>\n",
       "      <td>Y</td>\n",
       "      <td>N</td>\n",
       "      <td>CA</td>\n",
       "      <td>CERTIFIED</td>\n",
       "      <td>HIGH</td>\n",
       "    </tr>\n",
       "    <tr>\n",
       "      <th>195</th>\n",
       "      <td>TATA CONSULTANCY SERVICES LIMITED</td>\n",
       "      <td>Y</td>\n",
       "      <td>DEVELOPER USER INTERFACE</td>\n",
       "      <td>15-1134</td>\n",
       "      <td>Y</td>\n",
       "      <td>Level III</td>\n",
       "      <td>Y</td>\n",
       "      <td>N</td>\n",
       "      <td>OH</td>\n",
       "      <td>CERTIFIED</td>\n",
       "      <td>LOW</td>\n",
       "    </tr>\n",
       "    <tr>\n",
       "      <th>196</th>\n",
       "      <td>HEALTH MANAGEMENT SYSTEMS, INC.</td>\n",
       "      <td>Y</td>\n",
       "      <td>SOLUTION ARCHITECT</td>\n",
       "      <td>15-1132</td>\n",
       "      <td>Y</td>\n",
       "      <td>Level II</td>\n",
       "      <td>N</td>\n",
       "      <td>N</td>\n",
       "      <td>TX</td>\n",
       "      <td>CERTIFIED</td>\n",
       "      <td>MEDIUM</td>\n",
       "    </tr>\n",
       "  </tbody>\n",
       "</table>\n",
       "</div>"
      ],
      "text/plain": [
       "                         EMPLOYER_NAME AGENT_REPRESENTING_EMPLOYER  \\\n",
       "3                    INFO SERVICES LLC                           N   \n",
       "16                            ITAS INC                           Y   \n",
       "194        CLOUDWICK TECHNOLOGIES INC.                           Y   \n",
       "195  TATA CONSULTANCY SERVICES LIMITED                           Y   \n",
       "196    HEALTH MANAGEMENT SYSTEMS, INC.                           Y   \n",
       "\n",
       "                    JOB_TITLE SOC_CODE FULL_TIME_POSITION PW_WAGE_LEVEL  \\\n",
       "3             PROJECT MANAGER  15-1199                  Y     Level III   \n",
       "16    COMPUTER SYSTEM ANALYST  15-1121                  Y       Level I   \n",
       "194      HADOOP ADMINISTRATOR  15-1132                  Y       Level I   \n",
       "195  DEVELOPER USER INTERFACE  15-1134                  Y     Level III   \n",
       "196        SOLUTION ARCHITECT  15-1132                  Y      Level II   \n",
       "\n",
       "    H1B_DEPENDENT WILLFUL_VIOLATOR WORKSITE_STATE NEW_CASE_STATUS  \\\n",
       "3               Y                N             NJ   NOT CERTIFIED   \n",
       "16              N                N             NY   NOT CERTIFIED   \n",
       "194             Y                N             CA       CERTIFIED   \n",
       "195             Y                N             OH       CERTIFIED   \n",
       "196             N                N             TX       CERTIFIED   \n",
       "\n",
       "    WAGE_CATEGORY  \n",
       "3            HIGH  \n",
       "16            LOW  \n",
       "194          HIGH  \n",
       "195           LOW  \n",
       "196        MEDIUM  "
      ]
     },
     "execution_count": 36,
     "metadata": {},
     "output_type": "execute_result"
    }
   ],
   "source": [
    "categ.head()"
   ]
  },
  {
   "cell_type": "code",
   "execution_count": 37,
   "metadata": {},
   "outputs": [],
   "source": [
    "def categorisation_visagrant(ratio_of_acceptance):\n",
    "    if ratio_of_acceptance == -1:\n",
    "        return \"AR\"\n",
    "    elif ratio_of_acceptance >=0.0 and ratio_of_acceptance<0.20:\n",
    "        return \"VLA\"\n",
    "    elif ratio_of_acceptance>=0.20 and ratio_of_acceptance<0.40:\n",
    "        return \"LA\"\n",
    "    elif ratio_of_acceptance>=0.40 and ratio_of_acceptance<0.60:\n",
    "        return \"MA\"\n",
    "    elif ratio_of_acceptance>=0.60 and ratio_of_acceptance<0.80:\n",
    "        return \"HA\"\n",
    "    elif ratio_of_acceptance>=0.80:\n",
    "        return \"VHA\""
   ]
  },
  {
   "cell_type": "code",
   "execution_count": 38,
   "metadata": {},
   "outputs": [],
   "source": [
    "df_1 = categ.loc[:,['EMPLOYER_NAME', 'NEW_CASE_STATUS']]\n",
    "df_1s = categ.loc[:,['SOC_CODE', 'NEW_CASE_STATUS']]\n",
    "df_1j = categ.loc[:,['JOB_TITLE', 'NEW_CASE_STATUS']]"
   ]
  },
  {
   "cell_type": "code",
   "execution_count": 39,
   "metadata": {},
   "outputs": [],
   "source": [
    "df_2_C = df_1[df_1.NEW_CASE_STATUS == 'CERTIFIED'].EMPLOYER_NAME\n",
    "df_2_Cs = df_1s[df_1s.NEW_CASE_STATUS == 'CERTIFIED'].SOC_CODE\n",
    "df_2_Cj = df_1j[df_1j.NEW_CASE_STATUS == 'CERTIFIED'].JOB_TITLE\n",
    "positive_counts = df_2_C.value_counts()\n",
    "positive_counts_s = df_2_Cs.value_counts()\n",
    "positive_counts_j = df_2_Cj.value_counts()\n",
    "total_counts = df_1.EMPLOYER_NAME.value_counts()\n",
    "total_counts_s = df_1s.SOC_CODE.value_counts()\n",
    "total_counts_j = df_1j.JOB_TITLE.value_counts()"
   ]
  },
  {
   "cell_type": "code",
   "execution_count": 40,
   "metadata": {},
   "outputs": [
    {
     "name": "stderr",
     "output_type": "stream",
     "text": [
      "C:\\Users\\ADITI\\Anaconda3\\Anaconda\\lib\\site-packages\\ipykernel_launcher.py:4: SettingWithCopyWarning: \n",
      "A value is trying to be set on a copy of a slice from a DataFrame.\n",
      "Try using .loc[row_indexer,col_indexer] = value instead\n",
      "\n",
      "See the caveats in the documentation: http://pandas.pydata.org/pandas-docs/stable/indexing.html#indexing-view-versus-copy\n",
      "  after removing the cwd from sys.path.\n"
     ]
    }
   ],
   "source": [
    "final_ratio_series = positive_counts / total_counts\n",
    "final_ratio_series.fillna(-1, inplace=True)\n",
    "final_classification_employer = final_ratio_series.apply(categorisation_visagrant)\n",
    "categ['EMPLOYER_ACCEPTANCE'] = categ.EMPLOYER_NAME.map(final_classification_employer)"
   ]
  },
  {
   "cell_type": "code",
   "execution_count": 41,
   "metadata": {},
   "outputs": [
    {
     "name": "stderr",
     "output_type": "stream",
     "text": [
      "C:\\Users\\ADITI\\Anaconda3\\Anaconda\\lib\\site-packages\\ipykernel_launcher.py:4: SettingWithCopyWarning: \n",
      "A value is trying to be set on a copy of a slice from a DataFrame.\n",
      "Try using .loc[row_indexer,col_indexer] = value instead\n",
      "\n",
      "See the caveats in the documentation: http://pandas.pydata.org/pandas-docs/stable/indexing.html#indexing-view-versus-copy\n",
      "  after removing the cwd from sys.path.\n"
     ]
    }
   ],
   "source": [
    "final_ratio_series_s = positive_counts_s / total_counts_s\n",
    "final_ratio_series_s.fillna(-1, inplace=True)\n",
    "final_classification_soc = final_ratio_series_s.apply(categorisation_visagrant)\n",
    "categ['SOC_ACCEPTANCE'] = categ.SOC_CODE.map(final_classification_soc)"
   ]
  },
  {
   "cell_type": "code",
   "execution_count": 42,
   "metadata": {},
   "outputs": [
    {
     "name": "stderr",
     "output_type": "stream",
     "text": [
      "C:\\Users\\ADITI\\Anaconda3\\Anaconda\\lib\\site-packages\\ipykernel_launcher.py:4: SettingWithCopyWarning: \n",
      "A value is trying to be set on a copy of a slice from a DataFrame.\n",
      "Try using .loc[row_indexer,col_indexer] = value instead\n",
      "\n",
      "See the caveats in the documentation: http://pandas.pydata.org/pandas-docs/stable/indexing.html#indexing-view-versus-copy\n",
      "  after removing the cwd from sys.path.\n"
     ]
    }
   ],
   "source": [
    "final_ratio_series_j = positive_counts_j / total_counts_j\n",
    "final_ratio_series_j.fillna(-1, inplace=True)\n",
    "final_classification_job = final_ratio_series_j.apply(categorisation_visagrant)\n",
    "categ['JOB_ACCEPTANCE'] = categ.JOB_TITLE.map(final_classification_job)"
   ]
  },
  {
   "cell_type": "code",
   "execution_count": 43,
   "metadata": {},
   "outputs": [],
   "source": [
    "categ = categ.drop(['JOB_TITLE','SOC_CODE','EMPLOYER_NAME'],1)"
   ]
  },
  {
   "cell_type": "code",
   "execution_count": 44,
   "metadata": {},
   "outputs": [
    {
     "data": {
      "text/html": [
       "<div>\n",
       "<style scoped>\n",
       "    .dataframe tbody tr th:only-of-type {\n",
       "        vertical-align: middle;\n",
       "    }\n",
       "\n",
       "    .dataframe tbody tr th {\n",
       "        vertical-align: top;\n",
       "    }\n",
       "\n",
       "    .dataframe thead th {\n",
       "        text-align: right;\n",
       "    }\n",
       "</style>\n",
       "<table border=\"1\" class=\"dataframe\">\n",
       "  <thead>\n",
       "    <tr style=\"text-align: right;\">\n",
       "      <th></th>\n",
       "      <th>AGENT_REPRESENTING_EMPLOYER</th>\n",
       "      <th>FULL_TIME_POSITION</th>\n",
       "      <th>PW_WAGE_LEVEL</th>\n",
       "      <th>H1B_DEPENDENT</th>\n",
       "      <th>WILLFUL_VIOLATOR</th>\n",
       "      <th>WORKSITE_STATE</th>\n",
       "      <th>NEW_CASE_STATUS</th>\n",
       "      <th>WAGE_CATEGORY</th>\n",
       "      <th>EMPLOYER_ACCEPTANCE</th>\n",
       "      <th>SOC_ACCEPTANCE</th>\n",
       "      <th>JOB_ACCEPTANCE</th>\n",
       "    </tr>\n",
       "  </thead>\n",
       "  <tbody>\n",
       "    <tr>\n",
       "      <th>3</th>\n",
       "      <td>N</td>\n",
       "      <td>Y</td>\n",
       "      <td>Level III</td>\n",
       "      <td>Y</td>\n",
       "      <td>N</td>\n",
       "      <td>NJ</td>\n",
       "      <td>NOT CERTIFIED</td>\n",
       "      <td>HIGH</td>\n",
       "      <td>VHA</td>\n",
       "      <td>VHA</td>\n",
       "      <td>VHA</td>\n",
       "    </tr>\n",
       "    <tr>\n",
       "      <th>16</th>\n",
       "      <td>Y</td>\n",
       "      <td>Y</td>\n",
       "      <td>Level I</td>\n",
       "      <td>N</td>\n",
       "      <td>N</td>\n",
       "      <td>NY</td>\n",
       "      <td>NOT CERTIFIED</td>\n",
       "      <td>LOW</td>\n",
       "      <td>MA</td>\n",
       "      <td>VHA</td>\n",
       "      <td>VHA</td>\n",
       "    </tr>\n",
       "    <tr>\n",
       "      <th>194</th>\n",
       "      <td>Y</td>\n",
       "      <td>Y</td>\n",
       "      <td>Level I</td>\n",
       "      <td>Y</td>\n",
       "      <td>N</td>\n",
       "      <td>CA</td>\n",
       "      <td>CERTIFIED</td>\n",
       "      <td>HIGH</td>\n",
       "      <td>VHA</td>\n",
       "      <td>VHA</td>\n",
       "      <td>VHA</td>\n",
       "    </tr>\n",
       "    <tr>\n",
       "      <th>195</th>\n",
       "      <td>Y</td>\n",
       "      <td>Y</td>\n",
       "      <td>Level III</td>\n",
       "      <td>Y</td>\n",
       "      <td>N</td>\n",
       "      <td>OH</td>\n",
       "      <td>CERTIFIED</td>\n",
       "      <td>LOW</td>\n",
       "      <td>VHA</td>\n",
       "      <td>VHA</td>\n",
       "      <td>VHA</td>\n",
       "    </tr>\n",
       "    <tr>\n",
       "      <th>196</th>\n",
       "      <td>Y</td>\n",
       "      <td>Y</td>\n",
       "      <td>Level II</td>\n",
       "      <td>N</td>\n",
       "      <td>N</td>\n",
       "      <td>TX</td>\n",
       "      <td>CERTIFIED</td>\n",
       "      <td>MEDIUM</td>\n",
       "      <td>VHA</td>\n",
       "      <td>VHA</td>\n",
       "      <td>VHA</td>\n",
       "    </tr>\n",
       "  </tbody>\n",
       "</table>\n",
       "</div>"
      ],
      "text/plain": [
       "    AGENT_REPRESENTING_EMPLOYER FULL_TIME_POSITION PW_WAGE_LEVEL  \\\n",
       "3                             N                  Y     Level III   \n",
       "16                            Y                  Y       Level I   \n",
       "194                           Y                  Y       Level I   \n",
       "195                           Y                  Y     Level III   \n",
       "196                           Y                  Y      Level II   \n",
       "\n",
       "    H1B_DEPENDENT WILLFUL_VIOLATOR WORKSITE_STATE NEW_CASE_STATUS  \\\n",
       "3               Y                N             NJ   NOT CERTIFIED   \n",
       "16              N                N             NY   NOT CERTIFIED   \n",
       "194             Y                N             CA       CERTIFIED   \n",
       "195             Y                N             OH       CERTIFIED   \n",
       "196             N                N             TX       CERTIFIED   \n",
       "\n",
       "    WAGE_CATEGORY EMPLOYER_ACCEPTANCE SOC_ACCEPTANCE JOB_ACCEPTANCE  \n",
       "3            HIGH                 VHA            VHA            VHA  \n",
       "16            LOW                  MA            VHA            VHA  \n",
       "194          HIGH                 VHA            VHA            VHA  \n",
       "195           LOW                 VHA            VHA            VHA  \n",
       "196        MEDIUM                 VHA            VHA            VHA  "
      ]
     },
     "execution_count": 44,
     "metadata": {},
     "output_type": "execute_result"
    }
   ],
   "source": [
    "categ.head()"
   ]
  },
  {
   "cell_type": "code",
   "execution_count": 45,
   "metadata": {},
   "outputs": [],
   "source": [
    "X = categ.drop(['NEW_CASE_STATUS'],1)\n",
    "y = categ['NEW_CASE_STATUS']"
   ]
  },
  {
   "cell_type": "code",
   "execution_count": 46,
   "metadata": {},
   "outputs": [
    {
     "data": {
      "text/html": [
       "<div>\n",
       "<style scoped>\n",
       "    .dataframe tbody tr th:only-of-type {\n",
       "        vertical-align: middle;\n",
       "    }\n",
       "\n",
       "    .dataframe tbody tr th {\n",
       "        vertical-align: top;\n",
       "    }\n",
       "\n",
       "    .dataframe thead th {\n",
       "        text-align: right;\n",
       "    }\n",
       "</style>\n",
       "<table border=\"1\" class=\"dataframe\">\n",
       "  <thead>\n",
       "    <tr style=\"text-align: right;\">\n",
       "      <th></th>\n",
       "      <th>AGENT_REPRESENTING_EMPLOYER_Unknown</th>\n",
       "      <th>AGENT_REPRESENTING_EMPLOYER_Y</th>\n",
       "      <th>FULL_TIME_POSITION_Y</th>\n",
       "      <th>PW_WAGE_LEVEL_Level II</th>\n",
       "      <th>PW_WAGE_LEVEL_Level III</th>\n",
       "      <th>PW_WAGE_LEVEL_Level IV</th>\n",
       "      <th>PW_WAGE_LEVEL_Other</th>\n",
       "      <th>H1B_DEPENDENT_Unknown</th>\n",
       "      <th>H1B_DEPENDENT_Y</th>\n",
       "      <th>WILLFUL_VIOLATOR_Unknown</th>\n",
       "      <th>...</th>\n",
       "      <th>SOC_ACCEPTANCE_HA</th>\n",
       "      <th>SOC_ACCEPTANCE_LA</th>\n",
       "      <th>SOC_ACCEPTANCE_MA</th>\n",
       "      <th>SOC_ACCEPTANCE_VHA</th>\n",
       "      <th>SOC_ACCEPTANCE_VLA</th>\n",
       "      <th>JOB_ACCEPTANCE_HA</th>\n",
       "      <th>JOB_ACCEPTANCE_LA</th>\n",
       "      <th>JOB_ACCEPTANCE_MA</th>\n",
       "      <th>JOB_ACCEPTANCE_VHA</th>\n",
       "      <th>JOB_ACCEPTANCE_VLA</th>\n",
       "    </tr>\n",
       "  </thead>\n",
       "  <tbody>\n",
       "    <tr>\n",
       "      <th>3</th>\n",
       "      <td>0</td>\n",
       "      <td>0</td>\n",
       "      <td>1</td>\n",
       "      <td>0</td>\n",
       "      <td>1</td>\n",
       "      <td>0</td>\n",
       "      <td>0</td>\n",
       "      <td>0</td>\n",
       "      <td>1</td>\n",
       "      <td>0</td>\n",
       "      <td>...</td>\n",
       "      <td>0</td>\n",
       "      <td>0</td>\n",
       "      <td>0</td>\n",
       "      <td>1</td>\n",
       "      <td>0</td>\n",
       "      <td>0</td>\n",
       "      <td>0</td>\n",
       "      <td>0</td>\n",
       "      <td>1</td>\n",
       "      <td>0</td>\n",
       "    </tr>\n",
       "    <tr>\n",
       "      <th>16</th>\n",
       "      <td>0</td>\n",
       "      <td>1</td>\n",
       "      <td>1</td>\n",
       "      <td>0</td>\n",
       "      <td>0</td>\n",
       "      <td>0</td>\n",
       "      <td>0</td>\n",
       "      <td>0</td>\n",
       "      <td>0</td>\n",
       "      <td>0</td>\n",
       "      <td>...</td>\n",
       "      <td>0</td>\n",
       "      <td>0</td>\n",
       "      <td>0</td>\n",
       "      <td>1</td>\n",
       "      <td>0</td>\n",
       "      <td>0</td>\n",
       "      <td>0</td>\n",
       "      <td>0</td>\n",
       "      <td>1</td>\n",
       "      <td>0</td>\n",
       "    </tr>\n",
       "    <tr>\n",
       "      <th>194</th>\n",
       "      <td>0</td>\n",
       "      <td>1</td>\n",
       "      <td>1</td>\n",
       "      <td>0</td>\n",
       "      <td>0</td>\n",
       "      <td>0</td>\n",
       "      <td>0</td>\n",
       "      <td>0</td>\n",
       "      <td>1</td>\n",
       "      <td>0</td>\n",
       "      <td>...</td>\n",
       "      <td>0</td>\n",
       "      <td>0</td>\n",
       "      <td>0</td>\n",
       "      <td>1</td>\n",
       "      <td>0</td>\n",
       "      <td>0</td>\n",
       "      <td>0</td>\n",
       "      <td>0</td>\n",
       "      <td>1</td>\n",
       "      <td>0</td>\n",
       "    </tr>\n",
       "    <tr>\n",
       "      <th>195</th>\n",
       "      <td>0</td>\n",
       "      <td>1</td>\n",
       "      <td>1</td>\n",
       "      <td>0</td>\n",
       "      <td>1</td>\n",
       "      <td>0</td>\n",
       "      <td>0</td>\n",
       "      <td>0</td>\n",
       "      <td>1</td>\n",
       "      <td>0</td>\n",
       "      <td>...</td>\n",
       "      <td>0</td>\n",
       "      <td>0</td>\n",
       "      <td>0</td>\n",
       "      <td>1</td>\n",
       "      <td>0</td>\n",
       "      <td>0</td>\n",
       "      <td>0</td>\n",
       "      <td>0</td>\n",
       "      <td>1</td>\n",
       "      <td>0</td>\n",
       "    </tr>\n",
       "    <tr>\n",
       "      <th>196</th>\n",
       "      <td>0</td>\n",
       "      <td>1</td>\n",
       "      <td>1</td>\n",
       "      <td>1</td>\n",
       "      <td>0</td>\n",
       "      <td>0</td>\n",
       "      <td>0</td>\n",
       "      <td>0</td>\n",
       "      <td>0</td>\n",
       "      <td>0</td>\n",
       "      <td>...</td>\n",
       "      <td>0</td>\n",
       "      <td>0</td>\n",
       "      <td>0</td>\n",
       "      <td>1</td>\n",
       "      <td>0</td>\n",
       "      <td>0</td>\n",
       "      <td>0</td>\n",
       "      <td>0</td>\n",
       "      <td>1</td>\n",
       "      <td>0</td>\n",
       "    </tr>\n",
       "  </tbody>\n",
       "</table>\n",
       "<p>5 rows × 86 columns</p>\n",
       "</div>"
      ],
      "text/plain": [
       "     AGENT_REPRESENTING_EMPLOYER_Unknown  AGENT_REPRESENTING_EMPLOYER_Y  \\\n",
       "3                                      0                              0   \n",
       "16                                     0                              1   \n",
       "194                                    0                              1   \n",
       "195                                    0                              1   \n",
       "196                                    0                              1   \n",
       "\n",
       "     FULL_TIME_POSITION_Y  PW_WAGE_LEVEL_Level II  PW_WAGE_LEVEL_Level III  \\\n",
       "3                       1                       0                        1   \n",
       "16                      1                       0                        0   \n",
       "194                     1                       0                        0   \n",
       "195                     1                       0                        1   \n",
       "196                     1                       1                        0   \n",
       "\n",
       "     PW_WAGE_LEVEL_Level IV  PW_WAGE_LEVEL_Other  H1B_DEPENDENT_Unknown  \\\n",
       "3                         0                    0                      0   \n",
       "16                        0                    0                      0   \n",
       "194                       0                    0                      0   \n",
       "195                       0                    0                      0   \n",
       "196                       0                    0                      0   \n",
       "\n",
       "     H1B_DEPENDENT_Y  WILLFUL_VIOLATOR_Unknown         ...          \\\n",
       "3                  1                         0         ...           \n",
       "16                 0                         0         ...           \n",
       "194                1                         0         ...           \n",
       "195                1                         0         ...           \n",
       "196                0                         0         ...           \n",
       "\n",
       "     SOC_ACCEPTANCE_HA  SOC_ACCEPTANCE_LA  SOC_ACCEPTANCE_MA  \\\n",
       "3                    0                  0                  0   \n",
       "16                   0                  0                  0   \n",
       "194                  0                  0                  0   \n",
       "195                  0                  0                  0   \n",
       "196                  0                  0                  0   \n",
       "\n",
       "     SOC_ACCEPTANCE_VHA  SOC_ACCEPTANCE_VLA  JOB_ACCEPTANCE_HA  \\\n",
       "3                     1                   0                  0   \n",
       "16                    1                   0                  0   \n",
       "194                   1                   0                  0   \n",
       "195                   1                   0                  0   \n",
       "196                   1                   0                  0   \n",
       "\n",
       "     JOB_ACCEPTANCE_LA  JOB_ACCEPTANCE_MA  JOB_ACCEPTANCE_VHA  \\\n",
       "3                    0                  0                   1   \n",
       "16                   0                  0                   1   \n",
       "194                  0                  0                   1   \n",
       "195                  0                  0                   1   \n",
       "196                  0                  0                   1   \n",
       "\n",
       "     JOB_ACCEPTANCE_VLA  \n",
       "3                     0  \n",
       "16                    0  \n",
       "194                   0  \n",
       "195                   0  \n",
       "196                   0  \n",
       "\n",
       "[5 rows x 86 columns]"
      ]
     },
     "execution_count": 46,
     "metadata": {},
     "output_type": "execute_result"
    }
   ],
   "source": [
    "df_train = pd.get_dummies(X, drop_first=True)\n",
    "df_train.head()"
   ]
  },
  {
   "cell_type": "code",
   "execution_count": 47,
   "metadata": {},
   "outputs": [
    {
     "data": {
      "text/html": [
       "<div>\n",
       "<style scoped>\n",
       "    .dataframe tbody tr th:only-of-type {\n",
       "        vertical-align: middle;\n",
       "    }\n",
       "\n",
       "    .dataframe tbody tr th {\n",
       "        vertical-align: top;\n",
       "    }\n",
       "\n",
       "    .dataframe thead th {\n",
       "        text-align: right;\n",
       "    }\n",
       "</style>\n",
       "<table border=\"1\" class=\"dataframe\">\n",
       "  <thead>\n",
       "    <tr style=\"text-align: right;\">\n",
       "      <th></th>\n",
       "      <th>TOTAL_WORKERS</th>\n",
       "      <th>NEW_EMPLOYMENT</th>\n",
       "      <th>CONTINUED_EMPLOYMENT</th>\n",
       "      <th>CHANGE_PREVIOUS_EMPLOYMENT</th>\n",
       "      <th>NEW_CONCURRENT_EMPLOYMENT</th>\n",
       "      <th>CHANGE_EMPLOYER</th>\n",
       "      <th>AMENDED_PETITION</th>\n",
       "      <th>YEAR_SUBMISSION</th>\n",
       "      <th>PW_SOURCE_DURATION</th>\n",
       "      <th>EMPLOYMENT_DURATION</th>\n",
       "      <th>...</th>\n",
       "      <th>SOC_ACCEPTANCE_LA</th>\n",
       "      <th>SOC_ACCEPTANCE_MA</th>\n",
       "      <th>SOC_ACCEPTANCE_VHA</th>\n",
       "      <th>SOC_ACCEPTANCE_VLA</th>\n",
       "      <th>JOB_ACCEPTANCE_HA</th>\n",
       "      <th>JOB_ACCEPTANCE_LA</th>\n",
       "      <th>JOB_ACCEPTANCE_MA</th>\n",
       "      <th>JOB_ACCEPTANCE_VHA</th>\n",
       "      <th>JOB_ACCEPTANCE_VLA</th>\n",
       "      <th>NEW_CASE_STATUS</th>\n",
       "    </tr>\n",
       "  </thead>\n",
       "  <tbody>\n",
       "    <tr>\n",
       "      <th>3</th>\n",
       "      <td>1</td>\n",
       "      <td>1</td>\n",
       "      <td>0</td>\n",
       "      <td>0</td>\n",
       "      <td>0</td>\n",
       "      <td>0</td>\n",
       "      <td>0</td>\n",
       "      <td>2016</td>\n",
       "      <td>3.0</td>\n",
       "      <td>1094</td>\n",
       "      <td>...</td>\n",
       "      <td>0</td>\n",
       "      <td>0</td>\n",
       "      <td>1</td>\n",
       "      <td>0</td>\n",
       "      <td>0</td>\n",
       "      <td>0</td>\n",
       "      <td>0</td>\n",
       "      <td>1</td>\n",
       "      <td>0</td>\n",
       "      <td>NOT CERTIFIED</td>\n",
       "    </tr>\n",
       "    <tr>\n",
       "      <th>16</th>\n",
       "      <td>1</td>\n",
       "      <td>0</td>\n",
       "      <td>0</td>\n",
       "      <td>0</td>\n",
       "      <td>0</td>\n",
       "      <td>1</td>\n",
       "      <td>0</td>\n",
       "      <td>2016</td>\n",
       "      <td>3.0</td>\n",
       "      <td>1094</td>\n",
       "      <td>...</td>\n",
       "      <td>0</td>\n",
       "      <td>0</td>\n",
       "      <td>1</td>\n",
       "      <td>0</td>\n",
       "      <td>0</td>\n",
       "      <td>0</td>\n",
       "      <td>0</td>\n",
       "      <td>1</td>\n",
       "      <td>0</td>\n",
       "      <td>NOT CERTIFIED</td>\n",
       "    </tr>\n",
       "    <tr>\n",
       "      <th>194</th>\n",
       "      <td>1</td>\n",
       "      <td>0</td>\n",
       "      <td>0</td>\n",
       "      <td>0</td>\n",
       "      <td>0</td>\n",
       "      <td>1</td>\n",
       "      <td>0</td>\n",
       "      <td>2016</td>\n",
       "      <td>3.0</td>\n",
       "      <td>1084</td>\n",
       "      <td>...</td>\n",
       "      <td>0</td>\n",
       "      <td>0</td>\n",
       "      <td>1</td>\n",
       "      <td>0</td>\n",
       "      <td>0</td>\n",
       "      <td>0</td>\n",
       "      <td>0</td>\n",
       "      <td>1</td>\n",
       "      <td>0</td>\n",
       "      <td>CERTIFIED</td>\n",
       "    </tr>\n",
       "    <tr>\n",
       "      <th>195</th>\n",
       "      <td>1</td>\n",
       "      <td>0</td>\n",
       "      <td>0</td>\n",
       "      <td>0</td>\n",
       "      <td>0</td>\n",
       "      <td>0</td>\n",
       "      <td>1</td>\n",
       "      <td>2016</td>\n",
       "      <td>3.0</td>\n",
       "      <td>1089</td>\n",
       "      <td>...</td>\n",
       "      <td>0</td>\n",
       "      <td>0</td>\n",
       "      <td>1</td>\n",
       "      <td>0</td>\n",
       "      <td>0</td>\n",
       "      <td>0</td>\n",
       "      <td>0</td>\n",
       "      <td>1</td>\n",
       "      <td>0</td>\n",
       "      <td>CERTIFIED</td>\n",
       "    </tr>\n",
       "    <tr>\n",
       "      <th>196</th>\n",
       "      <td>1</td>\n",
       "      <td>0</td>\n",
       "      <td>1</td>\n",
       "      <td>0</td>\n",
       "      <td>0</td>\n",
       "      <td>0</td>\n",
       "      <td>0</td>\n",
       "      <td>2016</td>\n",
       "      <td>3.0</td>\n",
       "      <td>1095</td>\n",
       "      <td>...</td>\n",
       "      <td>0</td>\n",
       "      <td>0</td>\n",
       "      <td>1</td>\n",
       "      <td>0</td>\n",
       "      <td>0</td>\n",
       "      <td>0</td>\n",
       "      <td>0</td>\n",
       "      <td>1</td>\n",
       "      <td>0</td>\n",
       "      <td>CERTIFIED</td>\n",
       "    </tr>\n",
       "  </tbody>\n",
       "</table>\n",
       "<p>5 rows × 97 columns</p>\n",
       "</div>"
      ],
      "text/plain": [
       "     TOTAL_WORKERS  NEW_EMPLOYMENT  CONTINUED_EMPLOYMENT  \\\n",
       "3                1               1                     0   \n",
       "16               1               0                     0   \n",
       "194              1               0                     0   \n",
       "195              1               0                     0   \n",
       "196              1               0                     1   \n",
       "\n",
       "     CHANGE_PREVIOUS_EMPLOYMENT  NEW_CONCURRENT_EMPLOYMENT  CHANGE_EMPLOYER  \\\n",
       "3                             0                          0                0   \n",
       "16                            0                          0                1   \n",
       "194                           0                          0                1   \n",
       "195                           0                          0                0   \n",
       "196                           0                          0                0   \n",
       "\n",
       "     AMENDED_PETITION  YEAR_SUBMISSION  PW_SOURCE_DURATION  \\\n",
       "3                   0             2016                 3.0   \n",
       "16                  0             2016                 3.0   \n",
       "194                 0             2016                 3.0   \n",
       "195                 1             2016                 3.0   \n",
       "196                 0             2016                 3.0   \n",
       "\n",
       "     EMPLOYMENT_DURATION       ...         SOC_ACCEPTANCE_LA  \\\n",
       "3                   1094       ...                         0   \n",
       "16                  1094       ...                         0   \n",
       "194                 1084       ...                         0   \n",
       "195                 1089       ...                         0   \n",
       "196                 1095       ...                         0   \n",
       "\n",
       "     SOC_ACCEPTANCE_MA  SOC_ACCEPTANCE_VHA  SOC_ACCEPTANCE_VLA  \\\n",
       "3                    0                   1                   0   \n",
       "16                   0                   1                   0   \n",
       "194                  0                   1                   0   \n",
       "195                  0                   1                   0   \n",
       "196                  0                   1                   0   \n",
       "\n",
       "     JOB_ACCEPTANCE_HA  JOB_ACCEPTANCE_LA  JOB_ACCEPTANCE_MA  \\\n",
       "3                    0                  0                  0   \n",
       "16                   0                  0                  0   \n",
       "194                  0                  0                  0   \n",
       "195                  0                  0                  0   \n",
       "196                  0                  0                  0   \n",
       "\n",
       "     JOB_ACCEPTANCE_VHA  JOB_ACCEPTANCE_VLA  NEW_CASE_STATUS  \n",
       "3                     1                   0    NOT CERTIFIED  \n",
       "16                    1                   0    NOT CERTIFIED  \n",
       "194                   1                   0        CERTIFIED  \n",
       "195                   1                   0        CERTIFIED  \n",
       "196                   1                   0        CERTIFIED  \n",
       "\n",
       "[5 rows x 97 columns]"
      ]
     },
     "execution_count": 47,
     "metadata": {},
     "output_type": "execute_result"
    }
   ],
   "source": [
    "df = pd.concat([num,df_train,pd.DataFrame(y)],1)\n",
    "df.head()"
   ]
  },
  {
   "cell_type": "code",
   "execution_count": 48,
   "metadata": {},
   "outputs": [],
   "source": [
    "df_1 = df[df['NEW_CASE_STATUS']=='CERTIFIED']\n",
    "df_2 = df[df['NEW_CASE_STATUS']=='NOT CERTIFIED']"
   ]
  },
  {
   "cell_type": "code",
   "execution_count": 49,
   "metadata": {},
   "outputs": [
    {
     "data": {
      "text/plain": [
       "(533620, 97)"
      ]
     },
     "execution_count": 49,
     "metadata": {},
     "output_type": "execute_result"
    }
   ],
   "source": [
    "df_1.shape"
   ]
  },
  {
   "cell_type": "code",
   "execution_count": 50,
   "metadata": {},
   "outputs": [],
   "source": [
    "dfap = df_1.sample(n=40000)\n",
    "df = pd.concat([df_2,dfap])"
   ]
  },
  {
   "cell_type": "code",
   "execution_count": 51,
   "metadata": {},
   "outputs": [
    {
     "data": {
      "text/plain": [
       "CERTIFIED        40000\n",
       "NOT CERTIFIED    27801\n",
       "Name: NEW_CASE_STATUS, dtype: int64"
      ]
     },
     "execution_count": 51,
     "metadata": {},
     "output_type": "execute_result"
    }
   ],
   "source": [
    "df['NEW_CASE_STATUS'].value_counts()"
   ]
  },
  {
   "cell_type": "code",
   "execution_count": 53,
   "metadata": {},
   "outputs": [],
   "source": [
    "dict_cs = {\"CERTIFIED\" : 1, \"NOT CERTIFIED\": 0}  \n",
    "df['NEW_CASE_STATUS'] = df['NEW_CASE_STATUS'].apply(lambda x: dict_cs[x])"
   ]
  },
  {
   "cell_type": "code",
   "execution_count": null,
   "metadata": {},
   "outputs": [
    {
     "name": "stderr",
     "output_type": "stream",
     "text": [
      "C:\\Users\\ADITI\\Anaconda3\\Anaconda\\lib\\site-packages\\sklearn\\linear_model\\logistic.py:433: FutureWarning: Default solver will be changed to 'lbfgs' in 0.22. Specify a solver to silence this warning.\n",
      "  FutureWarning)\n",
      "C:\\Users\\ADITI\\Anaconda3\\Anaconda\\lib\\site-packages\\sklearn\\linear_model\\logistic.py:460: FutureWarning: Default multi_class will be changed to 'auto' in 0.22. Specify the multi_class option to silence this warning.\n",
      "  \"this warning.\", FutureWarning)\n",
      "C:\\Users\\ADITI\\Anaconda3\\Anaconda\\lib\\site-packages\\sklearn\\svm\\base.py:931: ConvergenceWarning: Liblinear failed to converge, increase the number of iterations.\n",
      "  \"the number of iterations.\", ConvergenceWarning)\n",
      "C:\\Users\\ADITI\\Anaconda3\\Anaconda\\lib\\site-packages\\sklearn\\linear_model\\logistic.py:433: FutureWarning: Default solver will be changed to 'lbfgs' in 0.22. Specify a solver to silence this warning.\n",
      "  FutureWarning)\n",
      "C:\\Users\\ADITI\\Anaconda3\\Anaconda\\lib\\site-packages\\sklearn\\linear_model\\logistic.py:460: FutureWarning: Default multi_class will be changed to 'auto' in 0.22. Specify the multi_class option to silence this warning.\n",
      "  \"this warning.\", FutureWarning)\n"
     ]
    }
   ],
   "source": [
    "from sklearn.feature_selection import RFE\n",
    "from sklearn.linear_model import LogisticRegression\n",
    "\n",
    "model = LogisticRegression()\n",
    "rfe = RFE(model, 7)\n",
    "fit = rfe.fit(df.iloc[:,1:], df.iloc[:,0])\n",
    "support_rfe = rfe.support_\n",
    "length_cols = list(df.iloc[:,1:].columns.values)\n",
    "list_selected = []\n",
    "for index in range(len(length_cols)):\n",
    "    if support_rfe[index] == True:\n",
    "        list_selected.append(length_cols[index])\n",
    "    else:\n",
    "        pass\n",
    "print(list_selected)\n",
    "print(rfe.ranking_)"
   ]
  },
  {
   "cell_type": "code",
   "execution_count": null,
   "metadata": {},
   "outputs": [],
   "source": [
    "X = df.drop([\"NEW_CASE_STATUS\"],1)\n",
    "y = df[\"NEW_CASE_STATUS\"]\n",
    "X.columns"
   ]
  },
  {
   "cell_type": "code",
   "execution_count": null,
   "metadata": {},
   "outputs": [],
   "source": [
    "from sklearn.model_selection import train_test_split as tts\n",
    "X_train,X_test,y_train,y_test = tts(X,y,test_size = 0.3,random_state = 42)"
   ]
  },
  {
   "cell_type": "code",
   "execution_count": null,
   "metadata": {},
   "outputs": [],
   "source": [
    "from sklearn.ensemble import RandomForestClassifier\n",
    "rfc = RandomForestClassifier(random_state=42,n_estimators=100)\n",
    "rfc.fit(X_train, y_train)"
   ]
  },
  {
   "cell_type": "code",
   "execution_count": null,
   "metadata": {},
   "outputs": [],
   "source": [
    "y_pred = rfc.predict(X_test)"
   ]
  },
  {
   "cell_type": "code",
   "execution_count": null,
   "metadata": {},
   "outputs": [],
   "source": [
    "from sklearn.metrics import accuracy_score\n",
    "#accuracy_score(y_test,y_pred)\n",
    "accuracy_score(y_train, rfc.predict(X_train))"
   ]
  },
  {
   "cell_type": "code",
   "execution_count": null,
   "metadata": {},
   "outputs": [],
   "source": [
    "from sklearn.metrics import classification_report\n",
    "print(classification_report(y_test,y_pred))"
   ]
  },
  {
   "cell_type": "code",
   "execution_count": null,
   "metadata": {},
   "outputs": [],
   "source": [
    "import matplotlib.pyplot as plt\n",
    "fi = pd.Series(rfc.feature_importances_,index = list(X))\n",
    "fi = fi.sort_values(ascending = True)\n",
    "fi = fi.head(20)\n",
    "fi.plot(kind=\"barh\")\n",
    "plt.show()"
   ]
  },
  {
   "cell_type": "code",
   "execution_count": null,
   "metadata": {},
   "outputs": [],
   "source": [
    "from sklearn.tree import DecisionTreeClassifier\n",
    "dt = DecisionTreeClassifier()\n",
    "dt.fit(X_train, y_train)\n",
    "y_pred_dt = dt.predict(X_test)\n",
    "\n",
    "from sklearn.ensemble import BaggingClassifier\n",
    "bag_clf = BaggingClassifier(base_estimator=dt, n_estimators=50,\n",
    "                            bootstrap=True, n_jobs=-1, random_state=42)\n",
    "bag_clf.fit(X_train, y_train)\n",
    "y_pred_bag = bag_clf.predict(X_test)\n",
    "print(\"Testing Accuracy : \",accuracy_score(y_test,y_pred_bag))\n",
    "print(\"Training Accuracy : \",accuracy_score(y_train, bag_clf.predict(X_train)))"
   ]
  },
  {
   "cell_type": "code",
   "execution_count": null,
   "metadata": {},
   "outputs": [],
   "source": [
    "import xgboost as xgb\n",
    "xgb_clf = xgb.XGBClassifier(n_estimators=150,max_depth=7,learning_rate=0.08,subsample=0.75)\n",
    "xgb_clf.fit(X_train, y_train.ravel())\n",
    "y_pred_xgb = xgb_clf.predict(X_test)\n",
    "\n",
    "print(\"Testing Accuracy : \",accuracy_score(y_test,y_pred_xgb))\n",
    "print(\"Training Accuracy : \",accuracy_score(y_train, xgb_clf.predict(X_train)))"
   ]
  },
  {
   "cell_type": "code",
   "execution_count": null,
   "metadata": {},
   "outputs": [],
   "source": [
    "print(classification_report(y_test,y_pred_xgb))"
   ]
  },
  {
   "cell_type": "code",
   "execution_count": null,
   "metadata": {},
   "outputs": [],
   "source": [
    "from sklearn.metrics import confusion_matrix\n",
    "print(confusion_matrix(y_test,y_pred_bag))"
   ]
  },
  {
   "cell_type": "code",
   "execution_count": null,
   "metadata": {},
   "outputs": [],
   "source": []
  }
 ],
 "metadata": {
  "kernelspec": {
   "display_name": "Python 3",
   "language": "python",
   "name": "python3"
  },
  "language_info": {
   "codemirror_mode": {
    "name": "ipython",
    "version": 3
   },
   "file_extension": ".py",
   "mimetype": "text/x-python",
   "name": "python",
   "nbconvert_exporter": "python",
   "pygments_lexer": "ipython3",
   "version": "3.7.0"
  }
 },
 "nbformat": 4,
 "nbformat_minor": 2
}
